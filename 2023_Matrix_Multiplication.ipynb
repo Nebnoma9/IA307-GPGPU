{
  "nbformat": 4,
  "nbformat_minor": 0,
  "metadata": {
    "colab": {
      "provenance": []
    },
    "kernelspec": {
      "name": "python3",
      "display_name": "Python 3"
    },
    "accelerator": "GPU",
    "gpuClass": "standard"
  },
  "cells": [
    {
      "cell_type": "markdown",
      "metadata": {
        "id": "cweMlOB0L4mG"
      },
      "source": [
        "# Code"
      ]
    },
    {
      "cell_type": "markdown",
      "metadata": {
        "id": "Po-TEvrWMJ_a"
      },
      "source": [
        "## CUDA Utilities"
      ]
    },
    {
      "cell_type": "code",
      "metadata": {
        "colab": {
          "base_uri": "https://localhost:8080/"
        },
        "id": "c-lgwhE1N5_7",
        "outputId": "88f11a58-7585-4dec-a4d9-d6784164cb66"
      },
      "source": [
        "%%writefile cuda_stuff.cuh\n",
        "#ifndef cuda_stuff_H\n",
        "#define cuda_stuff_H\n",
        "\n",
        "#include <stdio.h>\n",
        "#include <stdlib.h>\n",
        "#include <cuda.h>\n",
        "#include <cuda_runtime.h>\n",
        "\n",
        "//MACRO TO DEBUG CUDA FUNCTIONS\n",
        "/** Error checking,\n",
        " *  taken from https://stackoverflow.com/questions/14038589/what-is-the-canonical-way-to-check-for-errors-using-the-cuda-runtime-api\n",
        " */\n",
        "#define gpuErrchk(ans) { gpuAssert((ans), __FILE__, __LINE__); }\n",
        "inline void gpuAssert(cudaError_t code, const char *file, int line, bool abort=true)\n",
        "{\n",
        "   if (code != cudaSuccess) \n",
        "   {\n",
        "      fprintf(stderr,\"GPUassert: %s %s %d\\n\", cudaGetErrorString(code), file, line);\n",
        "      if (abort) exit(code);\n",
        "   }\n",
        "}\n",
        "\n",
        "void device_synchronize();\n",
        "\n",
        "#endif\n"
      ],
      "execution_count": null,
      "outputs": [
        {
          "output_type": "stream",
          "name": "stdout",
          "text": [
            "Writing cuda_stuff.cuh\n"
          ]
        }
      ]
    },
    {
      "cell_type": "code",
      "metadata": {
        "id": "iivrxLaYOYPh",
        "colab": {
          "base_uri": "https://localhost:8080/"
        },
        "outputId": "5208df92-d9b0-46c9-9134-b7e067838312"
      },
      "source": [
        "%%writefile cuda_stuff.cu\n",
        "#include <stdio.h>\n",
        "#include <stdlib.h>\n",
        "#include <cuda.h>\n",
        "#include <cuda_runtime.h>\n",
        "\n",
        "#include \"cuda_stuff.cuh\"\n",
        "\n",
        "void device_synchronize(){\n",
        "    gpuErrchk(cudaDeviceSynchronize());\n",
        "}"
      ],
      "execution_count": null,
      "outputs": [
        {
          "output_type": "stream",
          "name": "stdout",
          "text": [
            "Writing cuda_stuff.cu\n"
          ]
        }
      ]
    },
    {
      "cell_type": "markdown",
      "metadata": {
        "id": "0fsEMpauK8lW"
      },
      "source": [
        "## Matrix Tools"
      ]
    },
    {
      "cell_type": "code",
      "metadata": {
        "colab": {
          "base_uri": "https://localhost:8080/"
        },
        "id": "A97U902HMog4",
        "outputId": "cc749a6a-5cd6-497f-9451-90c4e4aea164"
      },
      "source": [
        "%%writefile fmatrix.cuh\n",
        "#ifndef fmatrices_H\n",
        "#define fmatrices_H\n",
        "#include <stddef.h> \n",
        "\n",
        "typedef struct {\n",
        "    float* data;\n",
        "    size_t cols;\n",
        "    size_t rows;\n",
        "} fmatrix;\n",
        "\n",
        "/* transform matrix index to vector offset\n",
        "   Since CUDA uses column major, \n",
        "   nb_rows = number of rows */\n",
        "#define IDX2C(i,j,nb_rows) (((j)*(nb_rows))+(i))\n",
        "\n",
        "/* Access element (i,j) of matrix mat */\n",
        "#define getfm(mat,i,j) (mat.data[IDX2C(i,j,mat.rows)])\n",
        "\n",
        "\n",
        "size_t fmatrix_elements(fmatrix mat);\n",
        "size_t fmatrix_size(fmatrix mat);\n",
        "void fmatrix_init(fmatrix mat, float f);\n",
        "/** Assert that the matrix is coherent: all fields nonzero. */\n",
        "void fmatrix_assert();\n",
        "\n",
        "fmatrix fmatrix_create_on_host(size_t rows, size_t cols);\n",
        "fmatrix fmatrix_create_on_device(size_t rows, size_t cols);\n",
        "\n",
        "void fmatrix_data_to_host(fmatrix mat_host, fmatrix mat_device);\n",
        "void fmatrix_data_to_device(fmatrix mat_host, fmatrix mat_device);\n",
        "\n",
        "void fmatrix_free_on_host(fmatrix* mat);\n",
        "void fmatrix_free_on_device(fmatrix* mat);\n",
        "\n",
        "/** Print the first nb rows of the matrix mat\n",
        " *  on the host. \n",
        " *  If nb<0, print all rows. \n",
        " */\n",
        "void fmatrix_host_print(fmatrix mat, int nb=-1);\n",
        "\n",
        "/** Print the first nb rows of the matrix mat\n",
        " *  on the device. \n",
        " *  If nb<0, print all rows. \n",
        " */\n",
        "void fmatrix_device_print(fmatrix mat, int nb=-1);\n",
        "\n",
        "#endif\n"
      ],
      "execution_count": null,
      "outputs": [
        {
          "output_type": "stream",
          "name": "stdout",
          "text": [
            "Writing fmatrix.cuh\n"
          ]
        }
      ]
    },
    {
      "cell_type": "code",
      "metadata": {
        "colab": {
          "base_uri": "https://localhost:8080/"
        },
        "id": "wGwZ36ifWQ-d",
        "outputId": "eb6b1542-2e45-493c-c44b-5a3c07a6c3c8"
      },
      "source": [
        "%%writefile fmatrix.cu\n",
        "#include <assert.h>\n",
        "#include <stdio.h>\n",
        "#include <stdlib.h>\n",
        "#include <cuda.h>\n",
        "#include <cuda_runtime.h>\n",
        "\n",
        "#include \"cuda_stuff.cuh\"\n",
        "#include \"fmatrix.cuh\"\n",
        "\n",
        "size_t fmatrix_elements(fmatrix mat) {\n",
        "     return mat.cols*mat.rows;\n",
        "}\n",
        "\n",
        "size_t fmatrix_size(fmatrix mat) {\n",
        "     return fmatrix_elements(mat) * sizeof(mat.data[0]);\n",
        "}\n",
        "\n",
        "void fmatrix_init(fmatrix mat, float f) {\n",
        "    for (int i = 0; i < mat.rows; i++){\n",
        "        for (int j = 0; j < mat.cols; j++){\n",
        "            mat.data[IDX2C(i,j,mat.rows)] = f; \n",
        "    }\n",
        "  }\n",
        "} \n",
        "\n",
        "void fmatrix_assert(fmatrix mat) {\n",
        "    assert(mat.data);\n",
        "    assert(mat.cols);\n",
        "    assert(mat.rows);\n",
        "}\n",
        "\n",
        "\n",
        "\n",
        "fmatrix fmatrix_create_on_host(size_t rows, size_t cols) {\n",
        "    assert(cols>0);\n",
        "    assert(rows>0);\n",
        "    fmatrix mat;\n",
        "    mat.cols = cols;\n",
        "    mat.rows = rows;\n",
        "    mat.data = (float*)malloc(fmatrix_size(mat)); \n",
        "    assert(mat.data);\n",
        "    return mat;\n",
        "}\n",
        "\n",
        "fmatrix fmatrix_create_on_device(size_t rows, size_t cols) {\n",
        "    assert(cols>0);\n",
        "    assert(rows>0);\n",
        "    fmatrix mat;\n",
        "    mat.cols = cols;\n",
        "    mat.rows = rows;\n",
        "    gpuErrchk( \n",
        "        cudaMalloc((void **)&(mat.data), fmatrix_size(mat)) \n",
        "    );\n",
        "    return mat;\n",
        "}\n",
        "\n",
        "void fmatrix_data_to_device(fmatrix mat_host, fmatrix mat_device) {\n",
        "    fmatrix_assert(mat_host);\n",
        "    fmatrix_assert(mat_device);\n",
        "    assert(mat_host.cols==mat_device.cols);\n",
        "    assert(mat_host.rows==mat_device.rows);\n",
        "    gpuErrchk( \n",
        "        cudaMemcpy( mat_device.data, mat_host.data, \n",
        "                   fmatrix_size(mat_host), \n",
        "                   cudaMemcpyHostToDevice \n",
        "                   )\n",
        "        );\n",
        "}\n",
        "\n",
        "void fmatrix_data_to_host(fmatrix mat_host, fmatrix mat_device) {\n",
        "    fmatrix_assert(mat_host);\n",
        "    fmatrix_assert(mat_device);\n",
        "    assert(mat_host.cols==mat_device.cols);\n",
        "    assert(mat_host.rows==mat_device.rows);\n",
        "    gpuErrchk(\n",
        "        cudaMemcpy( mat_host.data, mat_device.data,  \n",
        "                   fmatrix_size(mat_device), \n",
        "                   cudaMemcpyDeviceToHost \n",
        "                   )\n",
        "        );\n",
        "}\n",
        "\n",
        "void fmatrix_free_on_host(fmatrix* mat) {\n",
        "    fmatrix_assert(*mat);  \n",
        "  free(mat->data);\n",
        "  mat->data = 0;\n",
        "  mat->cols = 0;\n",
        "  mat->rows = 0;\n",
        "}\n",
        "\n",
        "void fmatrix_free_on_device(fmatrix* mat) {\n",
        "    fmatrix_assert(*mat);  \n",
        "  gpuErrchk(cudaFree(mat->data));\n",
        "  mat->data = 0;\n",
        "  mat->cols = 0;\n",
        "  mat->rows = 0;\n",
        "}\n",
        "\n",
        "void fmatrix_host_print(fmatrix mat, int nb){\n",
        "    if (nb<0 || nb > mat.rows) {\n",
        "        nb = mat.rows;\n",
        "    }\n",
        "    printf(\"[\\n\");\n",
        "    for (int i = 0 ; i < nb; i++){\n",
        "      for (int j = 0 ; j<mat.cols; j++){\n",
        "        printf(\"%f\", getfm(mat,i,j));\n",
        "        if (j+1<mat.cols) {\n",
        "          printf(\",\\t\");\n",
        "        }\n",
        "      }\n",
        "      if (i+1<nb) {\n",
        "        printf(\";\\n\");\n",
        "      }\n",
        "    }\n",
        "    if (nb < mat.rows) {\n",
        "      printf(\"\\n...\\n\");\n",
        "    }\n",
        "  printf(\"\\n]\\n\");\n",
        "}\n",
        "\n",
        "void fmatrix_device_print(fmatrix mat, int nb){\n",
        "   // allocate copy\n",
        "   fmatrix tmp = fmatrix_create_on_host(mat.rows, mat.cols);\n",
        "   fmatrix_data_to_host(tmp, mat);\n",
        "   fmatrix_host_print(tmp,nb);\n",
        "   fmatrix_free_on_host(&tmp);\n",
        "}\n",
        "\n"
      ],
      "execution_count": null,
      "outputs": [
        {
          "output_type": "stream",
          "name": "stdout",
          "text": [
            "Writing fmatrix.cu\n"
          ]
        }
      ]
    },
    {
      "cell_type": "markdown",
      "metadata": {
        "id": "tM266RRGjwUH"
      },
      "source": [
        "## Matrix Math"
      ]
    },
    {
      "cell_type": "code",
      "metadata": {
        "id": "iNjf6dkCfh9t",
        "colab": {
          "base_uri": "https://localhost:8080/"
        },
        "outputId": "6da4a5b6-cb91-497d-9483-d78de33e8927"
      },
      "source": [
        "%%writefile sgemm.cuh\n",
        "#ifndef sgemm_H\n",
        "#define sgemm_H\n",
        "\n",
        "#include <string>\n",
        "#include \"fmatrix.cuh\"\n",
        "\n",
        "void mat_mul(fmatrix A, fmatrix B, fmatrix C, std::string arg);\n",
        "\n",
        "#endif"
      ],
      "execution_count": null,
      "outputs": [
        {
          "output_type": "stream",
          "name": "stdout",
          "text": [
            "Writing sgemm.cuh\n"
          ]
        }
      ]
    },
    {
      "cell_type": "code",
      "metadata": {
        "id": "XdwAnQevYMQX",
        "colab": {
          "base_uri": "https://localhost:8080/"
        },
        "outputId": "3c344e62-75a1-4c61-f38f-0be5589e9157"
      },
      "source": [
        "%%writefile sgemm.cu\n",
        "#include <stdio.h>\n",
        "#include <stdlib.h>\n",
        "#include <string>\n",
        "#include <time.h>\n",
        "#include <math.h>\n",
        "#include <cuda.h>\n",
        "#include <cuda_runtime.h>\n",
        "#include \"cublas_v2.h\"\n",
        "\n",
        "#include \"cuda_stuff.cuh\"\n",
        "#include \"sgemm.cuh\"\n",
        "#include \"fmatrix.cuh\"\n",
        "\n",
        "#define THREADS_PER_BLOCK 1024\n",
        "#define TILE_WIDTH 32\n",
        "\n",
        "using namespace std;\n",
        "\n",
        "static cublasHandle_t handle;\n",
        "\n",
        "static int cublas_init = 0;\n",
        "\n",
        "/* basic matrix multiplication C = alpha*A*B + beta*C on host as reference for the speedup */\n",
        "void matrixMultiplication_basic_host(float alpha, fmatrix A, fmatrix B, float beta, fmatrix C) { \n",
        "  float tmp = 0;\n",
        "  for (int i = 0; i<A.rows; i++){\n",
        "    for (int j = 0; j<B.cols; j++){\n",
        "      for (int k = 0; k<A.cols; k++){\n",
        "        tmp += alpha * getfm(A,i, k) * getfm(B, k, j);\n",
        "      }\n",
        "      getfm(C, i, j) = beta * getfm(C, i, j) + tmp; \n",
        "      tmp = 0;\n",
        "    }\n",
        "  }\n",
        "}\n",
        "               \n",
        "/* TODO : 3 different versions of matrix multiplication C = alpha*A*B + beta*C on device */\n",
        "__global__\n",
        "void matmul_basic_kernel(float alpha, float *A, float *B, float beta, float *C, int nb_ColA, int nb_ColB, int nb_LigneA, int nb_LigneB) {\n",
        "  /* TODO */\n",
        "  int i = blockIdx.y * blockDim.y + threadIdx.y;\n",
        "  int j = blockIdx.x * blockDim.x + threadIdx.x;\n",
        "\n",
        "  if (i < nb_LigneA && j < nb_ColB){\n",
        "    float tmp = 0;\n",
        "    for( int k=0; k < nb_ColA; k++ )\n",
        "    {\n",
        "      float A_i_k = A[IDX2C(i,k,nb_LigneA)];\n",
        "      float B_k_j = B[IDX2C(k,j,nb_LigneB)];\n",
        "      tmp += alpha * A_i_k * B_k_j;\n",
        "    }\n",
        "\n",
        "    C[IDX2C(i,j,nb_ColA)] = beta * C[IDX2C(i,j,nb_ColA)] + tmp;\n",
        "  } \n",
        "}\n",
        "\n",
        "\n",
        "void matrixMultiplication_basic(float alpha, fmatrix d_A, fmatrix d_B, float beta, fmatrix d_C) { \n",
        "  // TODO - declaration of dimGrid and dimBlock\n",
        "  dim3 dimBlock(TILE_WIDTH,TILE_WIDTH);\n",
        "  dim3 dimGrid( (int) d_A.cols/TILE_WIDTH, (int) d_A.rows/TILE_WIDTH);\n",
        "\n",
        "  matmul_basic_kernel <<< dimGrid, dimBlock >>> (alpha, d_A.data, d_B.data, beta, d_C.data, d_A.cols, d_B.cols, d_A.rows, d_B.rows);\n",
        "\n",
        "} \n",
        "\n",
        "/**********************/\n",
        "__global__\n",
        "void matmul_tiled_kernel(float alpha, float *A, float *B, float beta, float *C, int nb_ColA, int nb_ColB, int nb_LigneA, int nb_LigneB){\n",
        "  /* TODO */\n",
        "\n",
        "  int i = blockIdx.y * blockDim.y + threadIdx.y;\n",
        "  int j = blockIdx.x * blockDim.x + threadIdx.x;\n",
        "\n",
        "  __shared__ float shared_A[TILE_WIDTH][TILE_WIDTH];\n",
        "  __shared__ float shared_B[TILE_WIDTH][TILE_WIDTH];\n",
        "\n",
        "  if (i < nb_LigneA && j < nb_ColB){\n",
        "    float tmp = 0;\n",
        "    for( int l=0; l < nb_ColA/TILE_WIDTH; l++ )\n",
        "    {\n",
        "      shared_A[threadIdx.y][threadIdx.x] = A[i*nb_LigneA + (l*TILE_WIDTH + threadIdx.x)];\n",
        "      shared_B[threadIdx.y][threadIdx.x] = B[(l*TILE_WIDTH + threadIdx.y)*nb_LigneB + j];\n",
        "      __syncthreads();\n",
        "\n",
        "      for( int k=0; k<TILE_WIDTH; k++){\n",
        "        tmp += alpha * shared_A[threadIdx.y][k] *  shared_B[k][threadIdx.x];\n",
        "        __syncthreads();\n",
        "      }\n",
        "   \n",
        "    }\n",
        "    C[IDX2C(i,j,nb_ColA)] = beta * C[IDX2C(i,j,nb_ColA)] + tmp;\n",
        "  } \n",
        "}\n",
        "\n",
        "\n",
        "\n",
        "void matrixMultiplication_tiled(float alpha, fmatrix d_A, fmatrix d_B, float beta, fmatrix d_C){\n",
        "  // TODO - declaration of dimGrid and dimBlock\n",
        "  dim3 dimBlock(TILE_WIDTH,TILE_WIDTH);\n",
        "  dim3 dimGrid( (int) d_A.cols/TILE_WIDTH, (int) d_A.rows/TILE_WIDTH);\n",
        "\n",
        "  matmul_tiled_kernel <<< dimGrid, dimBlock >>> (alpha, d_A.data, d_B.data, beta, d_C.data, d_A.cols, d_B.cols, d_A.rows, d_B.rows);\n",
        "}\n",
        "\n",
        "/**********************/\n",
        "void matrixMultiplication_cublas(float alpha, fmatrix d_A, fmatrix d_B, float beta, fmatrix d_C){\n",
        "  /* TODO */\n",
        "  static cublasHandle_t handle;\n",
        "  cublasCreate(&handle); \n",
        "  cublasSgemm(handle, CUBLAS_OP_N, CUBLAS_OP_N, d_C.rows, d_C.cols, d_A.cols, &alpha, d_A.data, d_A.rows, d_B.data, d_B.rows, &beta, d_C.data, d_C.rows);\n",
        "  cublasDestroy(handle);\n",
        "}\n",
        "\n",
        "\n",
        "\n",
        "/*MAIN SGEMM*/\n",
        "void gen_mat_mul(float alpha, fmatrix A, fmatrix B, float beta, fmatrix C, std::string arg){\n",
        "    if (arg == \"cpu\"){\n",
        "        matrixMultiplication_basic_host(alpha, A, B, beta, C);\n",
        "    } else {\n",
        "      /* kernel function*/  \n",
        "      if (arg == \"gpu_basic\"){\n",
        "          matrixMultiplication_basic(alpha, A, B, beta, C);\n",
        "      \n",
        "      } else if (arg == \"gpu_tiled\"){\n",
        "          matrixMultiplication_tiled(alpha, A, B, beta, C);\n",
        "      \n",
        "      } else if (arg == \"gpu_cublas\"){\n",
        "         matrixMultiplication_cublas(alpha, A, B, beta, C);\n",
        "    \n",
        "      } else{\n",
        "          printf(\"Matrix Multiplication argument is Wrong\");\n",
        "          exit(0);\n",
        "      }\n",
        "      // wait for everything to finish\n",
        "    device_synchronize();\n",
        "    }\n",
        "}\n",
        "\n",
        "void mat_mul(fmatrix A, fmatrix B, fmatrix C, std::string arg){\n",
        " gen_mat_mul(1.0, A, B, 0.0, C, arg);   \n",
        "}\n"
      ],
      "execution_count": null,
      "outputs": [
        {
          "output_type": "stream",
          "name": "stdout",
          "text": [
            "Overwriting sgemm.cu\n"
          ]
        }
      ]
    },
    {
      "cell_type": "markdown",
      "metadata": {
        "id": "cnpSu2wH2ooy"
      },
      "source": [
        "# Main"
      ]
    },
    {
      "cell_type": "code",
      "metadata": {
        "id": "kWEplkuA2Ygf",
        "colab": {
          "base_uri": "https://localhost:8080/"
        },
        "outputId": "69d9322f-c347-4d6a-ae4f-c7629fb4e714"
      },
      "source": [
        "%%writefile main.cu\n",
        "\n",
        "#include <stdio.h>\n",
        "#include <stdlib.h>\n",
        "#include \"fmatrix.cuh\"\n",
        "#include \"sgemm.cuh\"\n",
        "\n",
        "#define TILE_WIDTH 32\n",
        "//#define SIZE 40\n",
        "\n",
        "int main(void){\n",
        "  printf(\"TILE_WIDTH: %.2d\\n\", TILE_WIDTH);\n",
        "  for(int iter = 10; iter <= 60; iter +=20){\n",
        "    #define SIZE iter\n",
        "    printf(\"\\n\");\n",
        "    printf(\"***Size***: %.2d\\n\", SIZE);   \n",
        "\n",
        "  /* Allocate and initialize data on host */\n",
        "  fmatrix A = fmatrix_create_on_host(TILE_WIDTH * SIZE, TILE_WIDTH * SIZE);\n",
        "  fmatrix_init(A, 1.0);    \n",
        "  fmatrix B = fmatrix_create_on_host(TILE_WIDTH * SIZE, TILE_WIDTH * SIZE);\n",
        "  fmatrix_init(B, 2.0);\n",
        "  fmatrix C = fmatrix_create_on_host(TILE_WIDTH * SIZE, TILE_WIDTH * SIZE);\n",
        "  fmatrix_init(C, 0.0);\n",
        "\n",
        "  /* Allocate data on device */\n",
        "  fmatrix d_A = fmatrix_create_on_device(TILE_WIDTH * SIZE, TILE_WIDTH * SIZE);\n",
        "  fmatrix d_B = fmatrix_create_on_device(TILE_WIDTH * SIZE, TILE_WIDTH * SIZE);\n",
        "  fmatrix d_C = fmatrix_create_on_device(TILE_WIDTH * SIZE, TILE_WIDTH * SIZE);\n",
        "  \n",
        "  /* Transfer A and B on device */\n",
        "  fmatrix_data_to_device(A, d_A);\n",
        "  fmatrix_data_to_device(B, d_B); \n",
        "  fmatrix_data_to_device(C, d_C);\n",
        "\n",
        "  clock_t start, end;\n",
        "  float cpu_time_used;   \n",
        "\n",
        "  /* Start calculation \"cpu\", \"gpu_basic\", \"gpu_tiled\", \"gpu_cublas\" */ \n",
        "  /************** \"cpu\" *******************/\n",
        "  start = clock();\n",
        "  mat_mul(A, B, C, \"cpu\");\n",
        "  end = clock();\n",
        "  cpu_time_used = ((double) (end - start)) * 1000 / CLOCKS_PER_SEC;\n",
        "  printf(\"Time taken by CPU in milliseconds: %.2f\\n\", cpu_time_used);\n",
        " \n",
        "  \n",
        "  /* Result correctness */\n",
        "  {\n",
        "    float maxError = 0.0f;\n",
        "    for (int i = 0; i < TILE_WIDTH * SIZE; i++){\n",
        "      for (int j = 0; j < TILE_WIDTH * SIZE; j++){\n",
        "        maxError = max(maxError, abs(getfm(C,i,j)- 2*TILE_WIDTH * SIZE));\n",
        "      }\n",
        "    } \n",
        "    printf(\"Max error: %f\\n\", maxError);\n",
        "  }\n",
        "  fmatrix_init(C, 0.0); \n",
        "\n",
        "  /************** \"gpu_basic\" *******************/\n",
        "  start = clock();\n",
        "  mat_mul(d_A, d_B, d_C, \"gpu_basic\");\n",
        "  end = clock();\n",
        "  cpu_time_used = ((double) (end - start)) * 1000 / CLOCKS_PER_SEC;\n",
        "  printf(\"GPU basic matrix multiplication in milliseconcs : %.2f\\n\", cpu_time_used);\n",
        " \n",
        "  /* Retrieve the result */\n",
        "  fmatrix_data_to_host(C, d_C);\n",
        "  /* Result correctness */\n",
        "  {\n",
        "    float maxError = 0.0f;\n",
        "    for (int i = 0; i < TILE_WIDTH * SIZE; i++){\n",
        "      for (int j = 0; j < TILE_WIDTH * SIZE; j++){\n",
        "        maxError = max(maxError, abs(getfm(C,i,j)- 2*TILE_WIDTH * SIZE));\n",
        "      }\n",
        "    }   \n",
        "    printf(\"Max error: %f\\n\", maxError);\n",
        "  } \n",
        "  fmatrix_init(C, 0.0); \n",
        "  fmatrix_data_to_device(C, d_C);\n",
        " \n",
        "\n",
        " /************** \"gpu_tiled\" *******************/\n",
        "  start = clock();\n",
        "  mat_mul(d_A, d_B, d_C, \"gpu_tiled\");\n",
        "  end = clock();\n",
        "  cpu_time_used = ((double) (end - start)) * 1000 / CLOCKS_PER_SEC;\n",
        "  printf(\"GPU tiled matrix multiplication in milliseconcs : %.2f\\n\", cpu_time_used);\n",
        " \n",
        "  /* Retrieve the result */\n",
        "  fmatrix_data_to_host(C, d_C);\n",
        "  /* Result correctness */\n",
        "  {\n",
        "    float maxError = 0.0f;\n",
        "    for (int i = 0; i < TILE_WIDTH * SIZE; i++){\n",
        "      for (int j = 0; j < TILE_WIDTH * SIZE; j++){\n",
        "        maxError = max(maxError, abs(getfm(C,i,j)- 2*TILE_WIDTH * SIZE));\n",
        "      }\n",
        "    }   \n",
        "    printf(\"Max error: %f\\n\", maxError);\n",
        "  } \n",
        "  fmatrix_init(C, 0.0); \n",
        "  fmatrix_data_to_device(C, d_C);\n",
        "\n",
        "\n",
        "  /************** \"gpu_cublas\" *******************/\n",
        "  for(int warmup = 0; warmup < 5; warmup++){\n",
        "    mat_mul(d_A, d_B, d_C, \"gpu_cublas\");\n",
        "  }\n",
        "  fmatrix_init(C, 0.0); \n",
        "  fmatrix_data_to_device(C, d_C);\n",
        "\n",
        "  start = clock();\n",
        "  mat_mul(d_A, d_B, d_C, \"gpu_cublas\");\n",
        "  end = clock();\n",
        "  cpu_time_used = ((double) (end - start)) * 1000 / CLOCKS_PER_SEC;\n",
        "  printf(\"GPU cuBLAS matrix multiplication in milliseconcs : %.2f\\n\", cpu_time_used);\n",
        " \n",
        "  /* Retrieve the result */\n",
        "  fmatrix_data_to_host(C, d_C);\n",
        "  /* Result correctness */\n",
        "  {\n",
        "    float maxError = 0.0f;\n",
        "    for (int i = 0; i < TILE_WIDTH * SIZE; i++){\n",
        "      for (int j = 0; j < TILE_WIDTH * SIZE; j++){\n",
        "        maxError = max(maxError, abs(getfm(C,i,j)- 2*TILE_WIDTH * SIZE));\n",
        "      }\n",
        "    }   \n",
        "    printf(\"Max error: %f\\n\", maxError);\n",
        "  } \n",
        "  fmatrix_init(C, 0.0); \n",
        "  fmatrix_data_to_device(C, d_C);\n",
        "\n",
        "  /* Free */ \n",
        "  fmatrix_free_on_host(&A);\n",
        "  fmatrix_free_on_host(&B);\n",
        "  fmatrix_free_on_host(&C);\n",
        "  fmatrix_free_on_device(&d_A);\n",
        "  fmatrix_free_on_device(&d_B);\n",
        "  fmatrix_free_on_device(&d_C);\n",
        "}\n",
        "    }"
      ],
      "execution_count": null,
      "outputs": [
        {
          "output_type": "stream",
          "name": "stdout",
          "text": [
            "Overwriting main.cu\n"
          ]
        }
      ]
    },
    {
      "cell_type": "markdown",
      "metadata": {
        "id": "HrATC8s9LsDw"
      },
      "source": [
        "# Compiling"
      ]
    },
    {
      "cell_type": "code",
      "metadata": {
        "id": "Z52xd0NMRKXb",
        "colab": {
          "base_uri": "https://localhost:8080/"
        },
        "outputId": "fcad4021-387a-4a6c-f7b2-75205388eccf"
      },
      "source": [
        "!nvcc  -arch=sm_37 -gencode=arch=compute_37,code=sm_37 -Wno-deprecated-gpu-targets -lcublas sgemm.cu  fmatrix.cu  cuda_stuff.cu main.cu"
      ],
      "execution_count": null,
      "outputs": [
        {
          "output_type": "stream",
          "name": "stdout",
          "text": [
            "sgemm.cu(19): warning: variable \"handle\" was declared but never referenced\n",
            "\n",
            "sgemm.cu(21): warning: variable \"cublas_init\" was declared but never referenced\n",
            "\n"
          ]
        }
      ]
    },
    {
      "cell_type": "markdown",
      "metadata": {
        "id": "SZVqTfXcLvPr"
      },
      "source": [
        "# Experiments"
      ]
    },
    {
      "cell_type": "code",
      "metadata": {
        "id": "B_D8hNmXwi0S",
        "colab": {
          "base_uri": "https://localhost:8080/"
        },
        "outputId": "bf2a915e-ef7f-4e56-8f82-0101439d502f"
      },
      "source": [
        "! ./a.out"
      ],
      "execution_count": null,
      "outputs": [
        {
          "output_type": "stream",
          "name": "stdout",
          "text": [
            "TILE_WIDTH: 32\n",
            "\n",
            "***Size***: 10\n",
            "Time taken by CPU in milliseconds: 139.84\n",
            "Max error: 0.000000\n",
            "GPU basic matrix multiplication in milliseconcs : 3.06\n",
            "Max error: 0.000000\n",
            "GPU tiled matrix multiplication in milliseconcs : 0.41\n",
            "Max error: 0.000000\n",
            "GPU cuBLAS matrix multiplication in milliseconcs : 0.29\n",
            "Max error: 0.000000\n",
            "\n",
            "***Size***: 30\n",
            "Time taken by CPU in milliseconds: 3704.80\n",
            "Max error: 0.000000\n",
            "GPU basic matrix multiplication in milliseconcs : 78.49\n",
            "Max error: 0.000000\n",
            "GPU tiled matrix multiplication in milliseconcs : 7.90\n",
            "Max error: 0.000000\n",
            "GPU cuBLAS matrix multiplication in milliseconcs : 1.16\n",
            "Max error: 0.000000\n",
            "\n",
            "***Size***: 50\n",
            "Time taken by CPU in milliseconds: 23337.30\n",
            "Max error: 0.000000\n",
            "GPU basic matrix multiplication in milliseconcs : 267.22\n",
            "Max error: 0.000000\n",
            "GPU tiled matrix multiplication in milliseconcs : 19.00\n",
            "Max error: 0.000000\n",
            "GPU cuBLAS matrix multiplication in milliseconcs : 1.74\n",
            "Max error: 0.000000\n"
          ]
        }
      ]
    },
    {
      "cell_type": "markdown",
      "source": [
        "# Results\n",
        "\n",
        "\n",
        "\n",
        "> TILE_WIDTH: 32\n",
        "\n",
        "***Size***: 10 \\\n",
        "Time taken by CPU in milliseconds: 136.99 \\\n",
        "GPU basic matrix multiplication in milliseconcs : 3.59 \\\n",
        "GPU tiled matrix multiplication in milliseconcs : 0.41 \\\n",
        "GPU cuBLAS matrix multiplication in milliseconcs : 0.31 \\\n",
        "\n",
        "***Size***: 30 \\\n",
        "Time taken by CPU in milliseconds: 3709.97 \\\n",
        "GPU basic matrix multiplication in milliseconcs : 78.50 \\\n",
        "GPU tiled matrix multiplication in milliseconcs : 7.90 \\\n",
        "GPU cuBLAS matrix multiplication in milliseconcs : 1.17 \\\n",
        "\n",
        "***Size***: 50 \\\n",
        "Time taken by CPU in milliseconds: 25691.51 \\\n",
        "GPU basic matrix multiplication in milliseconcs : 273.54 \\\n",
        "GPU tiled matrix multiplication in milliseconcs : 13.68 \\\n",
        "GPU cuBLAS matrix multiplication in milliseconcs : 1.69 \\\n",
        "\n",
        "\n",
        "> TILE_WIDTH: 16\n",
        "\n",
        "***Size***: 10 \\\n",
        "Time taken by CPU in milliseconds: 13.46 \\\n",
        "GPU basic matrix multiplication in milliseconcs : 0.23 \\\n",
        "GPU tiled matrix multiplication in milliseconcs : 0.07 \\\n",
        "GPU cuBLAS matrix multiplication in milliseconcs : 0.33 \\\n",
        "\n",
        "***Size***: 30 \\\n",
        "Time taken by CPU in milliseconds: 456.00 \\\n",
        "GPU basic matrix multiplication in milliseconcs : 5.14 \\\n",
        "GPU tiled matrix multiplication in milliseconcs : 1.00 \\\n",
        "GPU cuBLAS matrix multiplication in milliseconcs : 0.40 \\\n",
        "\n",
        "***Size***: 50 \\\n",
        "Time taken by CPU in milliseconds: 2153.65 \\\n",
        "GPU basic matrix multiplication in milliseconcs : 23.59 \\\n",
        "GPU tiled matrix multiplication in milliseconcs : 4.09 \\\n",
        "GPU cuBLAS matrix multiplication in milliseconcs : 0.97 \\\n",
        "\n",
        "\n",
        "\n",
        "> TILE_WIDTH: 08\n",
        "\n",
        "***Size***: 10 \\\n",
        "Time taken by CPU in milliseconds: 1.74 \\\n",
        "GPU basic matrix multiplication in milliseconcs : 0.05 \\\n",
        "GPU tiled matrix multiplication in milliseconcs : 0.03 \\\n",
        "GPU cuBLAS matrix multiplication in milliseconcs : 0.34 \\\n",
        "\n",
        "***Size***: 30 \\\n",
        "Time taken by CPU in milliseconds: 46.19 \\\n",
        "GPU basic matrix multiplication in milliseconcs : 0.30 \\\n",
        "GPU tiled matrix multiplication in milliseconcs : 0.22 \\\n",
        "GPU cuBLAS matrix multiplication in milliseconcs : 0.26 \\\n",
        "\n",
        "***Size***: 50 \\\n",
        "Time taken by CPU in milliseconds: 249.98 \\\n",
        "GPU basic matrix multiplication in milliseconcs : 1.27 \\\n",
        "GPU tiled matrix multiplication in milliseconcs : 0.91 \\\n",
        "GPU cuBLAS matrix multiplication in milliseconcs : 0.39 \\\n",
        "\n"
      ],
      "metadata": {
        "id": "VHbh0gOO6016"
      }
    },
    {
      "cell_type": "markdown",
      "source": [
        "# Interpretation\n",
        "\n",
        "Après implémentation et plusieurs runs, une dynamique générale se déssine.\n",
        "\n",
        "Avec TILE_WIDTH 32, cuBLAS est le plus rapides, suivi de GPU Tiled, de GPU basic et de CPU. L'explication c'est GPU basic est plus rapide que CPU car le GPU a une architecture qui sied mieux au calcul parallèle de la multiplication matricielle. GPU tiled est plus rapide que GPU basic car GPU tiled a moins d'accès à la mémoire globale du GPU que GPU basic. cuBLAS est le plus rapide de tous car issu d'une librairie bien optimisé à l'architecture du GPU. \n",
        "Ce constat est le même pour les différentes  valeurs size testées selon les TILE_WIDTH 8 et 16.\n",
        "\n",
        "A TILE_WIDTH fixé, le temps de calcul augmente avec les valeurs croissantes de SIZE. Plus SIZE est élevé, plus il y'a d'opérations à faire et plus cela prend du temps.\n"
      ],
      "metadata": {
        "id": "_l3mPG6iRmYH"
      }
    },
    {
      "cell_type": "markdown",
      "metadata": {
        "id": "17aUKkNJqTDZ"
      },
      "source": [
        "# Debugging\n",
        "Compile with debugging info on the host (`-g`) and device (`-G`).\n"
      ]
    },
    {
      "cell_type": "markdown",
      "source": [
        "# New Section"
      ],
      "metadata": {
        "id": "KKAg_6-lEc8F"
      }
    },
    {
      "cell_type": "code",
      "metadata": {
        "id": "EcfLGo1UrMq9",
        "colab": {
          "base_uri": "https://localhost:8080/"
        },
        "outputId": "22c4c935-ab15-4080-c661-79a7c79486e9"
      },
      "source": [
        "!nvcc -g -G -I /usr/local/cuda/samples/common/inc/ -L/usr/local/cuda/include -lcublas -lcusolver linear_classification.cu sgemm.cu read_csv.cu preprocess_data.cu xavier_weight.cu fmatrix.cu proba_calcul.cu cuda_stuff.cu"
      ],
      "execution_count": null,
      "outputs": [
        {
          "output_type": "stream",
          "name": "stdout",
          "text": [
            "\u001b[01m\u001b[Kgcc:\u001b[m\u001b[K \u001b[01;31m\u001b[Kerror: \u001b[m\u001b[Klinear_classification.cu: No such file or directory\n",
            "\u001b[01m\u001b[Kgcc:\u001b[m\u001b[K \u001b[01;35m\u001b[Kwarning: \u001b[m\u001b[K‘\u001b[01m\u001b[K-x c++\u001b[m\u001b[K’ after last input file has no effect\n",
            "\u001b[01m\u001b[Kgcc:\u001b[m\u001b[K \u001b[01;31m\u001b[Kfatal error: \u001b[m\u001b[Kno input files\n",
            "compilation terminated.\n"
          ]
        }
      ]
    },
    {
      "cell_type": "markdown",
      "metadata": {
        "id": "FkuaGO10rRm9"
      },
      "source": [
        "Run the debugger cuda-gdb, stopping at the first error that is detected. Shows first the call stack on the GPU, the values of local variables, then the call stack on the host (thread 1)."
      ]
    },
    {
      "cell_type": "code",
      "metadata": {
        "colab": {
          "base_uri": "https://localhost:8080/"
        },
        "id": "vZ8nAtzGTRgH",
        "outputId": "2c6d7e95-806f-41d9-b1b8-e3fc33a62c8b"
      },
      "source": [
        "! printf \"set cuda memcheck on\\nset cuda api_failures stop\\ncatch throw\\nr UNIT\\nbt\\ninfo locals\\nthread 1\\nbt\\n\" > tmp.txt\n",
        "! cat tmp.txt\n",
        "! cuda-gdb -batch -x tmp.txt ./a.out"
      ],
      "execution_count": null,
      "outputs": [
        {
          "output_type": "stream",
          "name": "stdout",
          "text": [
            "set cuda memcheck on\n",
            "set cuda api_failures stop\n",
            "catch throw\n",
            "r UNIT\n",
            "bt\n",
            "info locals\n",
            "thread 1\n",
            "bt\n",
            "Catchpoint 1 (throw)\n",
            "warning: Error disabling address space randomization: Operation not permitted\n",
            "[Thread debugging using libthread_db enabled]\n",
            "Using host libthread_db library \"/lib/x86_64-linux-gnu/libthread_db.so.1\".\n",
            "[Detaching after fork from child process 32257]\n",
            "[New Thread 0x7f8722156000 (LWP 32265)]\n",
            "[New Thread 0x7f8721955000 (LWP 32266)]\n",
            "Time taken by CPU in milliseconds: 15664.87\n",
            "Max error: 0.000000\n",
            "GPU basic matrix multiplication in milliseconcs : 7685.00\n",
            "Max error: 0.000000\n",
            "GPU tiled matrix multiplication in milliseconcs : 2841.51\n",
            "Max error: 0.000000\n",
            "GPU cuBLAS matrix multiplication in milliseconcs : 137.46\n",
            "Max error: 0.000000\n",
            "[Thread 0x7f8722156000 (LWP 32265) exited]\n",
            "[Thread 0x7f872998f000 (LWP 32252) exited]\n",
            "[Inferior 1 (process 32252) exited normally]\n",
            "tmp.txt:5: Error in sourced command file:\n",
            "No stack.\n"
          ]
        }
      ]
    },
    {
      "cell_type": "code",
      "metadata": {
        "id": "VGJ6uVNBVHUs",
        "colab": {
          "base_uri": "https://localhost:8080/"
        },
        "outputId": "9a4e3e68-ef8a-4ab9-e200-a30d15bb709a"
      },
      "source": [
        "!cuda-memcheck ./a.out \"UNIT\""
      ],
      "execution_count": null,
      "outputs": [
        {
          "output_type": "stream",
          "name": "stdout",
          "text": [
            "========= CUDA-MEMCHECK\n",
            "Time taken by CPU in milliseconds: 15570.91\n",
            "Max error: 0.000000\n",
            "GPU basic matrix multiplication in milliseconcs : 7655.59\n",
            "Max error: 0.000000\n",
            "GPU tiled matrix multiplication in milliseconcs : 6.47\n",
            "Max error: 2560.000000\n",
            "========= ERROR SUMMARY: 0 errors\n"
          ]
        }
      ]
    }
  ]
}